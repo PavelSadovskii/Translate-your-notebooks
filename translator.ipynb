{
 "cells": [
  {
   "cell_type": "markdown",
   "id": "e0f1b180",
   "metadata": {
    "toc": true
   },
   "source": [
    "<h1>Table of Contents<span class=\"tocSkip\"></span></h1>\n",
    "<div class=\"toc\"><ul class=\"toc-item\"></ul></div>"
   ]
  },
  {
   "cell_type": "code",
   "execution_count": 1,
   "id": "477aade2",
   "metadata": {
    "ExecuteTime": {
     "end_time": "2023-09-07T20:41:42.573933Z",
     "start_time": "2023-09-07T20:41:25.244426Z"
    },
    "scrolled": true
   },
   "outputs": [
    {
     "name": "stdout",
     "output_type": "stream",
     "text": [
      "Requirement already satisfied: nbformat in /opt/anaconda3/lib/python3.9/site-packages (5.5.0)\n",
      "Requirement already satisfied: translate in /opt/anaconda3/lib/python3.9/site-packages (3.6.1)\n",
      "Requirement already satisfied: fastjsonschema in /opt/anaconda3/lib/python3.9/site-packages (from nbformat) (2.16.2)\n",
      "Requirement already satisfied: jsonschema>=2.6 in /opt/anaconda3/lib/python3.9/site-packages (from nbformat) (4.16.0)\n",
      "Requirement already satisfied: jupyter_core in /opt/anaconda3/lib/python3.9/site-packages (from nbformat) (4.11.1)\n",
      "Requirement already satisfied: traitlets>=5.1 in /opt/anaconda3/lib/python3.9/site-packages (from nbformat) (5.1.1)\n",
      "Requirement already satisfied: click in /opt/anaconda3/lib/python3.9/site-packages (from translate) (8.0.4)\n",
      "Requirement already satisfied: lxml in /opt/anaconda3/lib/python3.9/site-packages (from translate) (4.9.1)\n",
      "Requirement already satisfied: requests in /opt/anaconda3/lib/python3.9/site-packages (from translate) (2.28.1)\n",
      "Requirement already satisfied: libretranslatepy==2.1.1 in /opt/anaconda3/lib/python3.9/site-packages (from translate) (2.1.1)\n",
      "Requirement already satisfied: attrs>=17.4.0 in /opt/anaconda3/lib/python3.9/site-packages (from jsonschema>=2.6->nbformat) (21.4.0)\n",
      "Requirement already satisfied: pyrsistent!=0.17.0,!=0.17.1,!=0.17.2,>=0.14.0 in /opt/anaconda3/lib/python3.9/site-packages (from jsonschema>=2.6->nbformat) (0.18.0)\n",
      "Requirement already satisfied: charset-normalizer<3,>=2 in /opt/anaconda3/lib/python3.9/site-packages (from requests->translate) (2.0.4)\n",
      "Requirement already satisfied: idna<4,>=2.5 in /opt/anaconda3/lib/python3.9/site-packages (from requests->translate) (3.3)\n",
      "Requirement already satisfied: urllib3<1.27,>=1.21.1 in /opt/anaconda3/lib/python3.9/site-packages (from requests->translate) (1.26.11)\n",
      "Requirement already satisfied: certifi>=2017.4.17 in /opt/anaconda3/lib/python3.9/site-packages (from requests->translate) (2023.7.22)\n",
      "Note: you may need to restart the kernel to use updated packages.\n"
     ]
    }
   ],
   "source": [
    "pip install nbformat translate"
   ]
  },
  {
   "cell_type": "code",
   "execution_count": 2,
   "id": "e9a17247",
   "metadata": {
    "ExecuteTime": {
     "end_time": "2023-09-07T20:42:02.616445Z",
     "start_time": "2023-09-07T20:41:42.589877Z"
    }
   },
   "outputs": [
    {
     "name": "stdout",
     "output_type": "stream",
     "text": [
      "Requirement already satisfied: mtranslate==1.8 in /opt/anaconda3/lib/python3.9/site-packages (1.8)\n",
      "Note: you may need to restart the kernel to use updated packages.\n"
     ]
    }
   ],
   "source": [
    "pip install mtranslate==1.8"
   ]
  },
  {
   "cell_type": "code",
   "execution_count": 3,
   "id": "eb7fe930",
   "metadata": {
    "ExecuteTime": {
     "end_time": "2023-09-07T20:42:04.374094Z",
     "start_time": "2023-09-07T20:42:02.625117Z"
    }
   },
   "outputs": [
    {
     "name": "stdout",
     "output_type": "stream",
     "text": [
      "Файл успешно переведен и сохранен как translator_eng.ipynb\n"
     ]
    }
   ],
   "source": [
    "import nbformat\n",
    "from mtranslate import translate\n",
    "\n",
    "input_file = 'translator.ipynb' #Enter the address of the source file here\n",
    "output_file = str(input_file).replace('.ipynb', '_eng.ipynb')\n",
    "\n",
    "def translate_text(text):\n",
    "    try:\n",
    "        translated = translate(text, 'en', 'auto')\n",
    "        return translated\n",
    "    except Exception as e:\n",
    "        print('Ошибка при переводе текста:', str(e))\n",
    "        return text\n",
    "\n",
    "def translate_markdown_cells(notebook):\n",
    "    for cell in notebook.cells:\n",
    "        if cell.cell_type == 'markdown':\n",
    "            cell.source = translate_text(cell.source)\n",
    "\n",
    "def translate_code_cells(notebook):\n",
    "    for cell in notebook.cells:\n",
    "        if cell.cell_type == 'code':\n",
    "            # Текст в ячейке с кодом также переводим с русского на английский\n",
    "            cell.source = translate_text(cell.source)\n",
    "\n",
    "def main():\n",
    "    try:\n",
    "        with open(input_file, 'r', encoding='utf-8') as nb_file:\n",
    "            notebook = nbformat.read(nb_file, as_version=4)\n",
    "\n",
    "        translate_markdown_cells(notebook)\n",
    "        translate_code_cells(notebook)  # Перевод текста из ячеек с кодом\n",
    "\n",
    "        with open(output_file, 'w', encoding='utf-8') as output_nb:\n",
    "            nbformat.write(notebook, output_nb)\n",
    "\n",
    "        print(f'Файл успешно переведен и сохранен как {output_file}')\n",
    "    except Exception as e:\n",
    "        print(f'Произошла ошибка: {str(e)}')\n",
    "\n",
    "\n",
    "if __name__ == '__main__':\n",
    "    main()"
   ]
  },
  {
   "cell_type": "code",
   "execution_count": null,
   "id": "4c83bcf4",
   "metadata": {},
   "outputs": [],
   "source": []
  }
 ],
 "metadata": {
  "kernelspec": {
   "display_name": "Python 3 (ipykernel)",
   "language": "python",
   "name": "python3"
  },
  "language_info": {
   "codemirror_mode": {
    "name": "ipython",
    "version": 3
   },
   "file_extension": ".py",
   "mimetype": "text/x-python",
   "name": "python",
   "nbconvert_exporter": "python",
   "pygments_lexer": "ipython3",
   "version": "3.9.13"
  },
  "toc": {
   "base_numbering": 1,
   "nav_menu": {},
   "number_sections": true,
   "sideBar": true,
   "skip_h1_title": true,
   "title_cell": "Table of Contents",
   "title_sidebar": "Contents",
   "toc_cell": true,
   "toc_position": {},
   "toc_section_display": true,
   "toc_window_display": true
  }
 },
 "nbformat": 4,
 "nbformat_minor": 5
}
